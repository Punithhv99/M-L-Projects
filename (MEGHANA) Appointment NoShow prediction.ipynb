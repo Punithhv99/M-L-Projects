{
 "cells": [
  {
   "cell_type": "code",
   "execution_count": 7,
   "metadata": {},
   "outputs": [],
   "source": [
    "import pandas as pd\n",
    "import numpy as np\n",
    "import datetime\n",
    "from time import strftime\n",
    "\n",
    "from sklearn.model_selection import train_test_split\n",
    "from sklearn.model_selection import GridSearchCV\n",
    "from sklearn.preprocessing import LabelEncoder\n",
    "\n",
    "from sklearn.tree import DecisionTreeClassifier\n",
    "from sklearn.ensemble import RandomForestClassifier\n",
    "\n",
    "import matplotlib.pyplot as plt\n",
    "%matplotlib inline\n",
    "\n",
    "import seaborn as sns"
   ]
  },
  {
   "cell_type": "code",
   "execution_count": 8,
   "metadata": {},
   "outputs": [],
   "source": [
    "week_key = ['Monday','Tuesday','Wednesday','Thursday','Friday','Saturday','Sunday']"
   ]
  },
  {
   "cell_type": "code",
   "execution_count": 9,
   "metadata": {},
   "outputs": [],
   "source": [
    "df = pd.read_csv(\"/Users/P U N I/M L/PROJ/Patient dataset.csv\")"
   ]
  },
  {
   "cell_type": "code",
   "execution_count": 10,
   "metadata": {},
   "outputs": [
    {
     "data": {
      "text/plain": [
       "(110527, 14)"
      ]
     },
     "execution_count": 10,
     "metadata": {},
     "output_type": "execute_result"
    }
   ],
   "source": [
    "df.shape"
   ]
  },
  {
   "cell_type": "code",
   "execution_count": 11,
   "metadata": {},
   "outputs": [
    {
     "name": "stdout",
     "output_type": "stream",
     "text": [
      "<class 'pandas.core.frame.DataFrame'>\n",
      "RangeIndex: 110527 entries, 0 to 110526\n",
      "Data columns (total 14 columns):\n",
      "PatientId         110527 non-null float64\n",
      "AppointmentID     110527 non-null int64\n",
      "Gender            110527 non-null object\n",
      "ScheduledDay      110527 non-null object\n",
      "AppointmentDay    110527 non-null object\n",
      "Age               110527 non-null int64\n",
      "Neighbourhood     110527 non-null object\n",
      "Scholarship       110527 non-null int64\n",
      "Hipertension      110527 non-null int64\n",
      "Diabetes          110527 non-null int64\n",
      "Alcoholism        110527 non-null int64\n",
      "Handcap           110527 non-null int64\n",
      "SMS_received      110527 non-null int64\n",
      "No-show           110527 non-null object\n",
      "dtypes: float64(1), int64(8), object(5)\n",
      "memory usage: 11.8+ MB\n"
     ]
    }
   ],
   "source": [
    "df.info()"
   ]
  },
  {
   "cell_type": "code",
   "execution_count": 12,
   "metadata": {},
   "outputs": [],
   "source": [
    "df['PatientId']=df['PatientId'].astype('int64')\n",
    "df['ScheduledDay'] = pd.to_datetime(df['ScheduledDay']).dt.date.astype('datetime64[ns]')\n",
    "df['AppointmentDay'] = pd.to_datetime(df['AppointmentDay']).dt.date.astype('datetime64[ns]')\n",
    "df = df.rename(columns={'Hipertension': 'Hypertension', 'Handcap': 'Handicap', 'SMS_received': 'SMSReceived', 'No-show': 'NoShow'})"
   ]
  },
  {
   "cell_type": "code",
   "execution_count": 13,
   "metadata": {},
   "outputs": [
    {
     "name": "stdout",
     "output_type": "stream",
     "text": [
      "<class 'pandas.core.frame.DataFrame'>\n",
      "RangeIndex: 110527 entries, 0 to 110526\n",
      "Data columns (total 14 columns):\n",
      "PatientId         110527 non-null int64\n",
      "AppointmentID     110527 non-null int64\n",
      "Gender            110527 non-null object\n",
      "ScheduledDay      110527 non-null datetime64[ns]\n",
      "AppointmentDay    110527 non-null datetime64[ns]\n",
      "Age               110527 non-null int64\n",
      "Neighbourhood     110527 non-null object\n",
      "Scholarship       110527 non-null int64\n",
      "Hypertension      110527 non-null int64\n",
      "Diabetes          110527 non-null int64\n",
      "Alcoholism        110527 non-null int64\n",
      "Handicap          110527 non-null int64\n",
      "SMSReceived       110527 non-null int64\n",
      "NoShow            110527 non-null object\n",
      "dtypes: datetime64[ns](2), int64(9), object(3)\n",
      "memory usage: 11.8+ MB\n"
     ]
    }
   ],
   "source": [
    "df.info()"
   ]
  },
  {
   "cell_type": "code",
   "execution_count": 14,
   "metadata": {},
   "outputs": [
    {
     "data": {
      "text/html": [
       "<div>\n",
       "<style scoped>\n",
       "    .dataframe tbody tr th:only-of-type {\n",
       "        vertical-align: middle;\n",
       "    }\n",
       "\n",
       "    .dataframe tbody tr th {\n",
       "        vertical-align: top;\n",
       "    }\n",
       "\n",
       "    .dataframe thead th {\n",
       "        text-align: right;\n",
       "    }\n",
       "</style>\n",
       "<table border=\"1\" class=\"dataframe\">\n",
       "  <thead>\n",
       "    <tr style=\"text-align: right;\">\n",
       "      <th></th>\n",
       "      <th>PatientId</th>\n",
       "      <th>AppointmentID</th>\n",
       "      <th>Gender</th>\n",
       "      <th>ScheduledDay</th>\n",
       "      <th>AppointmentDay</th>\n",
       "      <th>Age</th>\n",
       "      <th>Neighbourhood</th>\n",
       "      <th>Scholarship</th>\n",
       "      <th>Hypertension</th>\n",
       "      <th>Diabetes</th>\n",
       "      <th>Alcoholism</th>\n",
       "      <th>Handicap</th>\n",
       "      <th>SMSReceived</th>\n",
       "      <th>NoShow</th>\n",
       "    </tr>\n",
       "  </thead>\n",
       "  <tbody>\n",
       "    <tr>\n",
       "      <th>0</th>\n",
       "      <td>29900000000000</td>\n",
       "      <td>5642903</td>\n",
       "      <td>F</td>\n",
       "      <td>2016-04-29</td>\n",
       "      <td>2016-04-29</td>\n",
       "      <td>62</td>\n",
       "      <td>JARDIM DA PENHA</td>\n",
       "      <td>0</td>\n",
       "      <td>1</td>\n",
       "      <td>0</td>\n",
       "      <td>0</td>\n",
       "      <td>0</td>\n",
       "      <td>0</td>\n",
       "      <td>No</td>\n",
       "    </tr>\n",
       "    <tr>\n",
       "      <th>1</th>\n",
       "      <td>559000000000000</td>\n",
       "      <td>5642503</td>\n",
       "      <td>M</td>\n",
       "      <td>2016-04-29</td>\n",
       "      <td>2016-04-29</td>\n",
       "      <td>56</td>\n",
       "      <td>JARDIM DA PENHA</td>\n",
       "      <td>0</td>\n",
       "      <td>0</td>\n",
       "      <td>0</td>\n",
       "      <td>0</td>\n",
       "      <td>0</td>\n",
       "      <td>0</td>\n",
       "      <td>No</td>\n",
       "    </tr>\n",
       "    <tr>\n",
       "      <th>2</th>\n",
       "      <td>4260000000000</td>\n",
       "      <td>5642549</td>\n",
       "      <td>F</td>\n",
       "      <td>2016-04-29</td>\n",
       "      <td>2016-04-29</td>\n",
       "      <td>62</td>\n",
       "      <td>MATA DA PRAIA</td>\n",
       "      <td>0</td>\n",
       "      <td>0</td>\n",
       "      <td>0</td>\n",
       "      <td>0</td>\n",
       "      <td>0</td>\n",
       "      <td>0</td>\n",
       "      <td>No</td>\n",
       "    </tr>\n",
       "    <tr>\n",
       "      <th>3</th>\n",
       "      <td>868000000000</td>\n",
       "      <td>5642828</td>\n",
       "      <td>F</td>\n",
       "      <td>2016-04-29</td>\n",
       "      <td>2016-04-29</td>\n",
       "      <td>8</td>\n",
       "      <td>PONTAL DE CAMBURI</td>\n",
       "      <td>0</td>\n",
       "      <td>0</td>\n",
       "      <td>0</td>\n",
       "      <td>0</td>\n",
       "      <td>0</td>\n",
       "      <td>0</td>\n",
       "      <td>No</td>\n",
       "    </tr>\n",
       "    <tr>\n",
       "      <th>4</th>\n",
       "      <td>8840000000000</td>\n",
       "      <td>5642494</td>\n",
       "      <td>F</td>\n",
       "      <td>2016-04-29</td>\n",
       "      <td>2016-04-29</td>\n",
       "      <td>56</td>\n",
       "      <td>JARDIM DA PENHA</td>\n",
       "      <td>0</td>\n",
       "      <td>1</td>\n",
       "      <td>1</td>\n",
       "      <td>0</td>\n",
       "      <td>0</td>\n",
       "      <td>0</td>\n",
       "      <td>No</td>\n",
       "    </tr>\n",
       "  </tbody>\n",
       "</table>\n",
       "</div>"
      ],
      "text/plain": [
       "         PatientId  AppointmentID Gender ScheduledDay AppointmentDay  Age  \\\n",
       "0   29900000000000        5642903      F   2016-04-29     2016-04-29   62   \n",
       "1  559000000000000        5642503      M   2016-04-29     2016-04-29   56   \n",
       "2    4260000000000        5642549      F   2016-04-29     2016-04-29   62   \n",
       "3     868000000000        5642828      F   2016-04-29     2016-04-29    8   \n",
       "4    8840000000000        5642494      F   2016-04-29     2016-04-29   56   \n",
       "\n",
       "       Neighbourhood  Scholarship  Hypertension  Diabetes  Alcoholism  \\\n",
       "0    JARDIM DA PENHA            0             1         0           0   \n",
       "1    JARDIM DA PENHA            0             0         0           0   \n",
       "2      MATA DA PRAIA            0             0         0           0   \n",
       "3  PONTAL DE CAMBURI            0             0         0           0   \n",
       "4    JARDIM DA PENHA            0             1         1           0   \n",
       "\n",
       "   Handicap  SMSReceived NoShow  \n",
       "0         0            0     No  \n",
       "1         0            0     No  \n",
       "2         0            0     No  \n",
       "3         0            0     No  \n",
       "4         0            0     No  "
      ]
     },
     "execution_count": 14,
     "metadata": {},
     "output_type": "execute_result"
    }
   ],
   "source": [
    "df.head()"
   ]
  },
  {
   "cell_type": "code",
   "execution_count": 15,
   "metadata": {},
   "outputs": [
    {
     "name": "stdout",
     "output_type": "stream",
     "text": [
      "['PatientId' 'AppointmentID' 'Gender' 'ScheduledDay' 'AppointmentDay'\n",
      " 'Age' 'Neighbourhood' 'Scholarship' 'Hypertension' 'Diabetes'\n",
      " 'Alcoholism' 'Handicap' 'SMSReceived' 'NoShow']\n"
     ]
    }
   ],
   "source": [
    "print(df.columns.ravel())\n"
   ]
  },
  {
   "cell_type": "code",
   "execution_count": 16,
   "metadata": {},
   "outputs": [],
   "source": [
    "df.drop(['PatientId','AppointmentID'],axis=1,inplace=True)"
   ]
  },
  {
   "cell_type": "code",
   "execution_count": 17,
   "metadata": {},
   "outputs": [
    {
     "data": {
      "text/html": [
       "<div>\n",
       "<style scoped>\n",
       "    .dataframe tbody tr th:only-of-type {\n",
       "        vertical-align: middle;\n",
       "    }\n",
       "\n",
       "    .dataframe tbody tr th {\n",
       "        vertical-align: top;\n",
       "    }\n",
       "\n",
       "    .dataframe thead th {\n",
       "        text-align: right;\n",
       "    }\n",
       "</style>\n",
       "<table border=\"1\" class=\"dataframe\">\n",
       "  <thead>\n",
       "    <tr style=\"text-align: right;\">\n",
       "      <th></th>\n",
       "      <th>Gender</th>\n",
       "      <th>ScheduledDay</th>\n",
       "      <th>AppointmentDay</th>\n",
       "      <th>Age</th>\n",
       "      <th>Neighbourhood</th>\n",
       "      <th>Scholarship</th>\n",
       "      <th>Hypertension</th>\n",
       "      <th>Diabetes</th>\n",
       "      <th>Alcoholism</th>\n",
       "      <th>Handicap</th>\n",
       "      <th>SMSReceived</th>\n",
       "      <th>NoShow</th>\n",
       "    </tr>\n",
       "  </thead>\n",
       "  <tbody>\n",
       "    <tr>\n",
       "      <th>0</th>\n",
       "      <td>F</td>\n",
       "      <td>2016-04-29</td>\n",
       "      <td>2016-04-29</td>\n",
       "      <td>62</td>\n",
       "      <td>JARDIM DA PENHA</td>\n",
       "      <td>0</td>\n",
       "      <td>1</td>\n",
       "      <td>0</td>\n",
       "      <td>0</td>\n",
       "      <td>0</td>\n",
       "      <td>0</td>\n",
       "      <td>No</td>\n",
       "    </tr>\n",
       "    <tr>\n",
       "      <th>1</th>\n",
       "      <td>M</td>\n",
       "      <td>2016-04-29</td>\n",
       "      <td>2016-04-29</td>\n",
       "      <td>56</td>\n",
       "      <td>JARDIM DA PENHA</td>\n",
       "      <td>0</td>\n",
       "      <td>0</td>\n",
       "      <td>0</td>\n",
       "      <td>0</td>\n",
       "      <td>0</td>\n",
       "      <td>0</td>\n",
       "      <td>No</td>\n",
       "    </tr>\n",
       "    <tr>\n",
       "      <th>2</th>\n",
       "      <td>F</td>\n",
       "      <td>2016-04-29</td>\n",
       "      <td>2016-04-29</td>\n",
       "      <td>62</td>\n",
       "      <td>MATA DA PRAIA</td>\n",
       "      <td>0</td>\n",
       "      <td>0</td>\n",
       "      <td>0</td>\n",
       "      <td>0</td>\n",
       "      <td>0</td>\n",
       "      <td>0</td>\n",
       "      <td>No</td>\n",
       "    </tr>\n",
       "    <tr>\n",
       "      <th>3</th>\n",
       "      <td>F</td>\n",
       "      <td>2016-04-29</td>\n",
       "      <td>2016-04-29</td>\n",
       "      <td>8</td>\n",
       "      <td>PONTAL DE CAMBURI</td>\n",
       "      <td>0</td>\n",
       "      <td>0</td>\n",
       "      <td>0</td>\n",
       "      <td>0</td>\n",
       "      <td>0</td>\n",
       "      <td>0</td>\n",
       "      <td>No</td>\n",
       "    </tr>\n",
       "    <tr>\n",
       "      <th>4</th>\n",
       "      <td>F</td>\n",
       "      <td>2016-04-29</td>\n",
       "      <td>2016-04-29</td>\n",
       "      <td>56</td>\n",
       "      <td>JARDIM DA PENHA</td>\n",
       "      <td>0</td>\n",
       "      <td>1</td>\n",
       "      <td>1</td>\n",
       "      <td>0</td>\n",
       "      <td>0</td>\n",
       "      <td>0</td>\n",
       "      <td>No</td>\n",
       "    </tr>\n",
       "  </tbody>\n",
       "</table>\n",
       "</div>"
      ],
      "text/plain": [
       "  Gender ScheduledDay AppointmentDay  Age      Neighbourhood  Scholarship  \\\n",
       "0      F   2016-04-29     2016-04-29   62    JARDIM DA PENHA            0   \n",
       "1      M   2016-04-29     2016-04-29   56    JARDIM DA PENHA            0   \n",
       "2      F   2016-04-29     2016-04-29   62      MATA DA PRAIA            0   \n",
       "3      F   2016-04-29     2016-04-29    8  PONTAL DE CAMBURI            0   \n",
       "4      F   2016-04-29     2016-04-29   56    JARDIM DA PENHA            0   \n",
       "\n",
       "   Hypertension  Diabetes  Alcoholism  Handicap  SMSReceived NoShow  \n",
       "0             1         0           0         0            0     No  \n",
       "1             0         0           0         0            0     No  \n",
       "2             0         0           0         0            0     No  \n",
       "3             0         0           0         0            0     No  \n",
       "4             1         1           0         0            0     No  "
      ]
     },
     "execution_count": 17,
     "metadata": {},
     "output_type": "execute_result"
    }
   ],
   "source": [
    "df.head()\n"
   ]
  },
  {
   "cell_type": "code",
   "execution_count": 18,
   "metadata": {},
   "outputs": [
    {
     "name": "stdout",
     "output_type": "stream",
     "text": [
      "<class 'pandas.core.frame.DataFrame'>\n",
      "RangeIndex: 110527 entries, 0 to 110526\n",
      "Data columns (total 12 columns):\n",
      "Gender            110527 non-null object\n",
      "ScheduledDay      110527 non-null datetime64[ns]\n",
      "AppointmentDay    110527 non-null datetime64[ns]\n",
      "Age               110527 non-null int64\n",
      "Neighbourhood     110527 non-null object\n",
      "Scholarship       110527 non-null int64\n",
      "Hypertension      110527 non-null int64\n",
      "Diabetes          110527 non-null int64\n",
      "Alcoholism        110527 non-null int64\n",
      "Handicap          110527 non-null int64\n",
      "SMSReceived       110527 non-null int64\n",
      "NoShow            110527 non-null object\n",
      "dtypes: datetime64[ns](2), int64(7), object(3)\n",
      "memory usage: 10.1+ MB\n"
     ]
    }
   ],
   "source": [
    "df.info()"
   ]
  },
  {
   "cell_type": "code",
   "execution_count": 19,
   "metadata": {},
   "outputs": [],
   "source": [
    "df['Scholarship'] = df['Scholarship'].astype('object')\n",
    "df['Hypertension'] = df['Hypertension'].astype('object')\n",
    "df['Diabetes'] = df['Diabetes'].astype('object')\n",
    "df['Alcoholism'] = df['Alcoholism'].astype('object')\n",
    "df['Handicap'] = df['Handicap'].astype('object')\n",
    "df['SMSReceived'] = df['SMSReceived'].astype('object')\n",
    "#df['Neighbourhood']=df['Neighbourhood'].astype('object')"
   ]
  },
  {
   "cell_type": "code",
   "execution_count": 20,
   "metadata": {},
   "outputs": [
    {
     "name": "stdout",
     "output_type": "stream",
     "text": [
      "<class 'pandas.core.frame.DataFrame'>\n",
      "RangeIndex: 110527 entries, 0 to 110526\n",
      "Data columns (total 12 columns):\n",
      "Gender            110527 non-null object\n",
      "ScheduledDay      110527 non-null datetime64[ns]\n",
      "AppointmentDay    110527 non-null datetime64[ns]\n",
      "Age               110527 non-null int64\n",
      "Neighbourhood     110527 non-null object\n",
      "Scholarship       110527 non-null object\n",
      "Hypertension      110527 non-null object\n",
      "Diabetes          110527 non-null object\n",
      "Alcoholism        110527 non-null object\n",
      "Handicap          110527 non-null object\n",
      "SMSReceived       110527 non-null object\n",
      "NoShow            110527 non-null object\n",
      "dtypes: datetime64[ns](2), int64(1), object(9)\n",
      "memory usage: 10.1+ MB\n"
     ]
    }
   ],
   "source": [
    "df.info()"
   ]
  },
  {
   "cell_type": "code",
   "execution_count": 21,
   "metadata": {},
   "outputs": [
    {
     "data": {
      "text/plain": [
       "array([ -1,   0,   1,   2,   3,   4,   5,   6,   7,   8,   9,  10,  11,\n",
       "        12,  13,  14,  15,  16,  17,  18,  19,  20,  21,  22,  23,  24,\n",
       "        25,  26,  27,  28,  29,  30,  31,  32,  33,  34,  35,  36,  37,\n",
       "        38,  39,  40,  41,  42,  43,  44,  45,  46,  47,  48,  49,  50,\n",
       "        51,  52,  53,  54,  55,  56,  57,  58,  59,  60,  61,  62,  63,\n",
       "        64,  65,  66,  67,  68,  69,  70,  71,  72,  73,  74,  75,  76,\n",
       "        77,  78,  79,  80,  81,  82,  83,  84,  85,  86,  87,  88,  89,\n",
       "        90,  91,  92,  93,  94,  95,  96,  97,  98,  99, 100, 102, 115],\n",
       "      dtype=int64)"
      ]
     },
     "execution_count": 21,
     "metadata": {},
     "output_type": "execute_result"
    }
   ],
   "source": [
    "np.sort(df.Age.unique())"
   ]
  },
  {
   "cell_type": "code",
   "execution_count": 22,
   "metadata": {},
   "outputs": [],
   "source": [
    "df=df[df.Age>=0]"
   ]
  },
  {
   "cell_type": "code",
   "execution_count": 23,
   "metadata": {},
   "outputs": [
    {
     "data": {
      "text/plain": [
       "array([  0,   1,   2,   3,   4,   5,   6,   7,   8,   9,  10,  11,  12,\n",
       "        13,  14,  15,  16,  17,  18,  19,  20,  21,  22,  23,  24,  25,\n",
       "        26,  27,  28,  29,  30,  31,  32,  33,  34,  35,  36,  37,  38,\n",
       "        39,  40,  41,  42,  43,  44,  45,  46,  47,  48,  49,  50,  51,\n",
       "        52,  53,  54,  55,  56,  57,  58,  59,  60,  61,  62,  63,  64,\n",
       "        65,  66,  67,  68,  69,  70,  71,  72,  73,  74,  75,  76,  77,\n",
       "        78,  79,  80,  81,  82,  83,  84,  85,  86,  87,  88,  89,  90,\n",
       "        91,  92,  93,  94,  95,  96,  97,  98,  99, 100, 102, 115],\n",
       "      dtype=int64)"
      ]
     },
     "execution_count": 23,
     "metadata": {},
     "output_type": "execute_result"
    }
   ],
   "source": [
    "np.sort(df.Age.unique())"
   ]
  },
  {
   "cell_type": "code",
   "execution_count": 24,
   "metadata": {},
   "outputs": [
    {
     "data": {
      "text/html": [
       "<div>\n",
       "<style scoped>\n",
       "    .dataframe tbody tr th:only-of-type {\n",
       "        vertical-align: middle;\n",
       "    }\n",
       "\n",
       "    .dataframe tbody tr th {\n",
       "        vertical-align: top;\n",
       "    }\n",
       "\n",
       "    .dataframe thead th {\n",
       "        text-align: right;\n",
       "    }\n",
       "</style>\n",
       "<table border=\"1\" class=\"dataframe\">\n",
       "  <thead>\n",
       "    <tr style=\"text-align: right;\">\n",
       "      <th></th>\n",
       "      <th>Gender</th>\n",
       "      <th>ScheduledDay</th>\n",
       "      <th>AppointmentDay</th>\n",
       "      <th>Age</th>\n",
       "      <th>Neighbourhood</th>\n",
       "      <th>Scholarship</th>\n",
       "      <th>Hypertension</th>\n",
       "      <th>Diabetes</th>\n",
       "      <th>Alcoholism</th>\n",
       "      <th>Handicap</th>\n",
       "      <th>SMSReceived</th>\n",
       "      <th>NoShow</th>\n",
       "    </tr>\n",
       "  </thead>\n",
       "  <tbody>\n",
       "  </tbody>\n",
       "</table>\n",
       "</div>"
      ],
      "text/plain": [
       "Empty DataFrame\n",
       "Columns: [Gender, ScheduledDay, AppointmentDay, Age, Neighbourhood, Scholarship, Hypertension, Diabetes, Alcoholism, Handicap, SMSReceived, NoShow]\n",
       "Index: []"
      ]
     },
     "execution_count": 24,
     "metadata": {},
     "output_type": "execute_result"
    }
   ],
   "source": [
    "df[(df.Age <= 0) & ((df.Hypertension.astype(int) == 1) | (df.Diabetes.astype(int) == 1) | (df.Alcoholism.astype(int) == 1))]"
   ]
  },
  {
   "cell_type": "code",
   "execution_count": 25,
   "metadata": {},
   "outputs": [
    {
     "data": {
      "text/plain": [
       "array(['01-02-16', '01-03-16', '01-04-16', '01-06-16', '02-02-16',\n",
       "       '02-03-16', '02-05-16', '02-06-16', '03-02-16', '03-03-16',\n",
       "       '03-05-16', '03-06-16', '03-12-15', '04-01-16', '04-02-16',\n",
       "       '04-03-16', '04-05-16', '04-06-16', '05-01-16', '05-02-16',\n",
       "       '05-03-16', '05-04-16', '05-05-16', '06-04-16', '06-05-16',\n",
       "       '06-06-16', '07-01-16', '07-03-16', '07-04-16', '07-05-16',\n",
       "       '07-06-16', '07-12-15', '08-03-16', '08-04-16', '08-06-16',\n",
       "       '08-12-15', '09-03-16', '09-04-16', '09-05-16', '10-03-16',\n",
       "       '10-05-16', '10-11-15', '11-01-16', '11-02-16', '11-03-16',\n",
       "       '11-04-16', '11-05-16', '12-02-16', '12-04-16', '12-05-16',\n",
       "       '13-01-16', '13-04-16', '13-05-16', '14-01-16', '14-03-16',\n",
       "       '14-04-16', '14-05-16', '14-12-15', '15-02-16', '15-03-16',\n",
       "       '15-04-16', '15-12-15', '16-02-16', '16-03-16', '16-04-16',\n",
       "       '16-05-16', '17-02-16', '17-03-16', '17-05-16', '18-02-16',\n",
       "       '18-03-16', '18-04-16', '18-05-16', '19-01-16', '19-02-16',\n",
       "       '19-03-16', '19-04-16', '19-05-16', '20-01-16', '20-04-16',\n",
       "       '20-05-16', '21-01-16', '21-03-16', '22-01-16', '22-02-16',\n",
       "       '22-03-16', '23-02-16', '23-03-16', '24-02-16', '24-05-16',\n",
       "       '25-01-16', '25-02-16', '25-04-16', '25-05-16', '26-01-16',\n",
       "       '26-02-16', '26-04-16', '27-01-16', '27-04-16', '28-01-16',\n",
       "       '28-03-16', '28-04-16', '29-01-16', '29-02-16', '29-03-16',\n",
       "       '29-04-16', '30-03-16', '30-04-16', '30-05-16', '31-03-16',\n",
       "       '31-05-16'], dtype=object)"
      ]
     },
     "execution_count": 25,
     "metadata": {},
     "output_type": "execute_result"
    }
   ],
   "source": [
    "np.sort(df.ScheduledDay.dt.strftime('%d-%m-%y').unique())"
   ]
  },
  {
   "cell_type": "code",
   "execution_count": 26,
   "metadata": {},
   "outputs": [
    {
     "data": {
      "text/plain": [
       "array(['01-06-16', '02-05-16', '02-06-16', '03-05-16', '03-06-16',\n",
       "       '04-05-16', '05-05-16', '06-05-16', '06-06-16', '07-06-16',\n",
       "       '08-06-16', '09-05-16', '10-05-16', '11-05-16', '12-05-16',\n",
       "       '13-05-16', '14-05-16', '16-05-16', '17-05-16', '18-05-16',\n",
       "       '19-05-16', '20-05-16', '24-05-16', '25-05-16', '29-04-16',\n",
       "       '30-05-16', '31-05-16'], dtype=object)"
      ]
     },
     "execution_count": 26,
     "metadata": {},
     "output_type": "execute_result"
    }
   ],
   "source": [
    "np.sort(df.AppointmentDay.dt.strftime('%d-%m-%y').unique())"
   ]
  },
  {
   "cell_type": "code",
   "execution_count": 27,
   "metadata": {},
   "outputs": [],
   "source": [
    "df['ScheduledDay_DOW'] = df['ScheduledDay'].dt.weekday_name\n",
    "df['AppointmentDay_DOW'] = df['AppointmentDay'].dt.weekday_name\n",
    "\n"
   ]
  },
  {
   "cell_type": "code",
   "execution_count": 28,
   "metadata": {},
   "outputs": [],
   "source": [
    "df['AppointmentDay'] = np.where((df['AppointmentDay'] - df['ScheduledDay']).dt.days < 0, df['ScheduledDay'], df['AppointmentDay'])"
   ]
  },
  {
   "cell_type": "code",
   "execution_count": 29,
   "metadata": {},
   "outputs": [],
   "source": [
    "df['Waiting_Time_days'] = df['AppointmentDay'] - df['ScheduledDay']\n",
    "df['Waiting_Time_days'] = df['Waiting_Time_days'].dt.days"
   ]
  },
  {
   "cell_type": "code",
   "execution_count": 30,
   "metadata": {},
   "outputs": [
    {
     "data": {
      "text/html": [
       "<div>\n",
       "<style scoped>\n",
       "    .dataframe tbody tr th:only-of-type {\n",
       "        vertical-align: middle;\n",
       "    }\n",
       "\n",
       "    .dataframe tbody tr th {\n",
       "        vertical-align: top;\n",
       "    }\n",
       "\n",
       "    .dataframe thead th {\n",
       "        text-align: right;\n",
       "    }\n",
       "</style>\n",
       "<table border=\"1\" class=\"dataframe\">\n",
       "  <thead>\n",
       "    <tr style=\"text-align: right;\">\n",
       "      <th></th>\n",
       "      <th>Gender</th>\n",
       "      <th>ScheduledDay</th>\n",
       "      <th>AppointmentDay</th>\n",
       "      <th>Age</th>\n",
       "      <th>Neighbourhood</th>\n",
       "      <th>Scholarship</th>\n",
       "      <th>Hypertension</th>\n",
       "      <th>Diabetes</th>\n",
       "      <th>Alcoholism</th>\n",
       "      <th>Handicap</th>\n",
       "      <th>SMSReceived</th>\n",
       "      <th>NoShow</th>\n",
       "      <th>ScheduledDay_DOW</th>\n",
       "      <th>AppointmentDay_DOW</th>\n",
       "      <th>Waiting_Time_days</th>\n",
       "    </tr>\n",
       "  </thead>\n",
       "  <tbody>\n",
       "    <tr>\n",
       "      <th>35400</th>\n",
       "      <td>F</td>\n",
       "      <td>2016-05-03</td>\n",
       "      <td>2016-05-05</td>\n",
       "      <td>22</td>\n",
       "      <td>JESUS DE NAZARETH</td>\n",
       "      <td>0</td>\n",
       "      <td>0</td>\n",
       "      <td>0</td>\n",
       "      <td>0</td>\n",
       "      <td>0</td>\n",
       "      <td>0</td>\n",
       "      <td>No</td>\n",
       "      <td>Tuesday</td>\n",
       "      <td>Thursday</td>\n",
       "      <td>2</td>\n",
       "    </tr>\n",
       "    <tr>\n",
       "      <th>95389</th>\n",
       "      <td>M</td>\n",
       "      <td>2016-05-09</td>\n",
       "      <td>2016-06-06</td>\n",
       "      <td>2</td>\n",
       "      <td>MARIA ORTIZ</td>\n",
       "      <td>0</td>\n",
       "      <td>0</td>\n",
       "      <td>0</td>\n",
       "      <td>0</td>\n",
       "      <td>0</td>\n",
       "      <td>0</td>\n",
       "      <td>Yes</td>\n",
       "      <td>Monday</td>\n",
       "      <td>Monday</td>\n",
       "      <td>28</td>\n",
       "    </tr>\n",
       "    <tr>\n",
       "      <th>94689</th>\n",
       "      <td>M</td>\n",
       "      <td>2016-05-30</td>\n",
       "      <td>2016-06-01</td>\n",
       "      <td>25</td>\n",
       "      <td>ITARARÉ</td>\n",
       "      <td>0</td>\n",
       "      <td>0</td>\n",
       "      <td>0</td>\n",
       "      <td>0</td>\n",
       "      <td>0</td>\n",
       "      <td>0</td>\n",
       "      <td>No</td>\n",
       "      <td>Monday</td>\n",
       "      <td>Wednesday</td>\n",
       "      <td>2</td>\n",
       "    </tr>\n",
       "    <tr>\n",
       "      <th>100636</th>\n",
       "      <td>F</td>\n",
       "      <td>2016-06-08</td>\n",
       "      <td>2016-06-08</td>\n",
       "      <td>3</td>\n",
       "      <td>REDENÇÃO</td>\n",
       "      <td>0</td>\n",
       "      <td>0</td>\n",
       "      <td>0</td>\n",
       "      <td>0</td>\n",
       "      <td>0</td>\n",
       "      <td>0</td>\n",
       "      <td>No</td>\n",
       "      <td>Wednesday</td>\n",
       "      <td>Wednesday</td>\n",
       "      <td>0</td>\n",
       "    </tr>\n",
       "    <tr>\n",
       "      <th>54315</th>\n",
       "      <td>F</td>\n",
       "      <td>2016-05-04</td>\n",
       "      <td>2016-05-13</td>\n",
       "      <td>33</td>\n",
       "      <td>ILHA DO PRÍNCIPE</td>\n",
       "      <td>1</td>\n",
       "      <td>0</td>\n",
       "      <td>0</td>\n",
       "      <td>0</td>\n",
       "      <td>0</td>\n",
       "      <td>0</td>\n",
       "      <td>Yes</td>\n",
       "      <td>Wednesday</td>\n",
       "      <td>Friday</td>\n",
       "      <td>9</td>\n",
       "    </tr>\n",
       "  </tbody>\n",
       "</table>\n",
       "</div>"
      ],
      "text/plain": [
       "       Gender ScheduledDay AppointmentDay  Age      Neighbourhood Scholarship  \\\n",
       "35400       F   2016-05-03     2016-05-05   22  JESUS DE NAZARETH           0   \n",
       "95389       M   2016-05-09     2016-06-06    2        MARIA ORTIZ           0   \n",
       "94689       M   2016-05-30     2016-06-01   25            ITARARÉ           0   \n",
       "100636      F   2016-06-08     2016-06-08    3           REDENÇÃO           0   \n",
       "54315       F   2016-05-04     2016-05-13   33   ILHA DO PRÍNCIPE           1   \n",
       "\n",
       "       Hypertension Diabetes Alcoholism Handicap SMSReceived NoShow  \\\n",
       "35400             0        0          0        0           0     No   \n",
       "95389             0        0          0        0           0    Yes   \n",
       "94689             0        0          0        0           0     No   \n",
       "100636            0        0          0        0           0     No   \n",
       "54315             0        0          0        0           0    Yes   \n",
       "\n",
       "       ScheduledDay_DOW AppointmentDay_DOW  Waiting_Time_days  \n",
       "35400           Tuesday           Thursday                  2  \n",
       "95389            Monday             Monday                 28  \n",
       "94689            Monday          Wednesday                  2  \n",
       "100636        Wednesday          Wednesday                  0  \n",
       "54315         Wednesday             Friday                  9  "
      ]
     },
     "execution_count": 30,
     "metadata": {},
     "output_type": "execute_result"
    }
   ],
   "source": [
    "df.sample(5)"
   ]
  },
  {
   "cell_type": "code",
   "execution_count": 31,
   "metadata": {},
   "outputs": [
    {
     "name": "stdout",
     "output_type": "stream",
     "text": [
      "NoShow and Show Count of Patients\n",
      "\n",
      "NoShow\n",
      "No     88207\n",
      "Yes    22319\n",
      "dtype: int64\n",
      "\n",
      "NoShow and Show '%' of Patients\n",
      "\n",
      "Percent of Patients who `Showed Up` => 79.81%\n",
      "Percent of Patients who Did `Not Showed Up` => 20.19%\n"
     ]
    }
   ],
   "source": [
    "print(\"NoShow and Show Count of Patients\\n\")\n",
    "print(df.groupby(['NoShow']).size())\n",
    "\n",
    "print(\"\\nNoShow and Show '%' of Patients\\n\")\n",
    "show = df.groupby(['NoShow']).size()[0]/(df.groupby(['NoShow']).size()[0]+df.groupby(['NoShow']).size()[1])\n",
    "print(\"Percent of Patients who `Showed Up` => {:.2f}%\".format(show*100))\n",
    "noshow = df.groupby(['NoShow']).size()[1]/(df.groupby(['NoShow']).size()[0]+df.groupby(['NoShow']).size()[1])\n",
    "print(\"Percent of Patients who Did `Not Showed Up` => {:.2f}%\".format(noshow*100))"
   ]
  },
  {
   "cell_type": "code",
   "execution_count": 32,
   "metadata": {},
   "outputs": [
    {
     "name": "stdout",
     "output_type": "stream",
     "text": [
      "<class 'pandas.core.frame.DataFrame'>\n",
      "Int64Index: 110526 entries, 0 to 110526\n",
      "Data columns (total 15 columns):\n",
      "Gender                110526 non-null object\n",
      "ScheduledDay          110526 non-null datetime64[ns]\n",
      "AppointmentDay        110526 non-null datetime64[ns]\n",
      "Age                   110526 non-null int64\n",
      "Neighbourhood         110526 non-null object\n",
      "Scholarship           110526 non-null object\n",
      "Hypertension          110526 non-null object\n",
      "Diabetes              110526 non-null object\n",
      "Alcoholism            110526 non-null object\n",
      "Handicap              110526 non-null object\n",
      "SMSReceived           110526 non-null object\n",
      "NoShow                110526 non-null object\n",
      "ScheduledDay_DOW      110526 non-null object\n",
      "AppointmentDay_DOW    110526 non-null object\n",
      "Waiting_Time_days     110526 non-null int64\n",
      "dtypes: datetime64[ns](2), int64(2), object(11)\n",
      "memory usage: 13.5+ MB\n"
     ]
    }
   ],
   "source": [
    "df.info()"
   ]
  },
  {
   "cell_type": "code",
   "execution_count": null,
   "metadata": {},
   "outputs": [],
   "source": []
  },
  {
   "cell_type": "code",
   "execution_count": 33,
   "metadata": {},
   "outputs": [
    {
     "name": "stdout",
     "output_type": "stream",
     "text": [
      "<class 'pandas.core.frame.DataFrame'>\n",
      "Int64Index: 110526 entries, 0 to 110526\n",
      "Data columns (total 15 columns):\n",
      "Gender                110526 non-null object\n",
      "ScheduledDay          110526 non-null datetime64[ns]\n",
      "AppointmentDay        110526 non-null datetime64[ns]\n",
      "Age                   110526 non-null int64\n",
      "Neighbourhood         110526 non-null object\n",
      "Scholarship           110526 non-null object\n",
      "Hypertension          110526 non-null object\n",
      "Diabetes              110526 non-null object\n",
      "Alcoholism            110526 non-null object\n",
      "Handicap              110526 non-null object\n",
      "SMSReceived           110526 non-null object\n",
      "NoShow                110526 non-null object\n",
      "ScheduledDay_DOW      110526 non-null object\n",
      "AppointmentDay_DOW    110526 non-null object\n",
      "Waiting_Time_days     110526 non-null int64\n",
      "dtypes: datetime64[ns](2), int64(2), object(11)\n",
      "memory usage: 13.5+ MB\n"
     ]
    }
   ],
   "source": [
    "df.info()"
   ]
  },
  {
   "cell_type": "code",
   "execution_count": 35,
   "metadata": {},
   "outputs": [
    {
     "data": {
      "text/html": [
       "<div>\n",
       "<style scoped>\n",
       "    .dataframe tbody tr th:only-of-type {\n",
       "        vertical-align: middle;\n",
       "    }\n",
       "\n",
       "    .dataframe tbody tr th {\n",
       "        vertical-align: top;\n",
       "    }\n",
       "\n",
       "    .dataframe thead th {\n",
       "        text-align: right;\n",
       "    }\n",
       "</style>\n",
       "<table border=\"1\" class=\"dataframe\">\n",
       "  <thead>\n",
       "    <tr style=\"text-align: right;\">\n",
       "      <th></th>\n",
       "      <th>Gender</th>\n",
       "      <th>ScheduledDay</th>\n",
       "      <th>AppointmentDay</th>\n",
       "      <th>Age</th>\n",
       "      <th>Neighbourhood</th>\n",
       "      <th>Scholarship</th>\n",
       "      <th>Hypertension</th>\n",
       "      <th>Diabetes</th>\n",
       "      <th>Alcoholism</th>\n",
       "      <th>Handicap</th>\n",
       "      <th>SMSReceived</th>\n",
       "      <th>NoShow</th>\n",
       "      <th>ScheduledDay_DOW</th>\n",
       "      <th>AppointmentDay_DOW</th>\n",
       "      <th>Waiting_Time_days</th>\n",
       "    </tr>\n",
       "  </thead>\n",
       "  <tbody>\n",
       "    <tr>\n",
       "      <th>35266</th>\n",
       "      <td>F</td>\n",
       "      <td>2016-05-02</td>\n",
       "      <td>2016-05-02</td>\n",
       "      <td>18</td>\n",
       "      <td>JESUS DE NAZARETH</td>\n",
       "      <td>0</td>\n",
       "      <td>0</td>\n",
       "      <td>0</td>\n",
       "      <td>0</td>\n",
       "      <td>0</td>\n",
       "      <td>0</td>\n",
       "      <td>No</td>\n",
       "      <td>Monday</td>\n",
       "      <td>Monday</td>\n",
       "      <td>0</td>\n",
       "    </tr>\n",
       "    <tr>\n",
       "      <th>8015</th>\n",
       "      <td>M</td>\n",
       "      <td>2016-05-12</td>\n",
       "      <td>2016-05-12</td>\n",
       "      <td>12</td>\n",
       "      <td>JESUS DE NAZARETH</td>\n",
       "      <td>0</td>\n",
       "      <td>0</td>\n",
       "      <td>0</td>\n",
       "      <td>0</td>\n",
       "      <td>0</td>\n",
       "      <td>0</td>\n",
       "      <td>No</td>\n",
       "      <td>Thursday</td>\n",
       "      <td>Thursday</td>\n",
       "      <td>0</td>\n",
       "    </tr>\n",
       "    <tr>\n",
       "      <th>47753</th>\n",
       "      <td>F</td>\n",
       "      <td>2016-04-19</td>\n",
       "      <td>2016-05-11</td>\n",
       "      <td>18</td>\n",
       "      <td>MARUÍPE</td>\n",
       "      <td>0</td>\n",
       "      <td>0</td>\n",
       "      <td>0</td>\n",
       "      <td>0</td>\n",
       "      <td>0</td>\n",
       "      <td>1</td>\n",
       "      <td>No</td>\n",
       "      <td>Tuesday</td>\n",
       "      <td>Wednesday</td>\n",
       "      <td>22</td>\n",
       "    </tr>\n",
       "    <tr>\n",
       "      <th>29515</th>\n",
       "      <td>F</td>\n",
       "      <td>2016-05-02</td>\n",
       "      <td>2016-05-06</td>\n",
       "      <td>29</td>\n",
       "      <td>ROMÃO</td>\n",
       "      <td>0</td>\n",
       "      <td>0</td>\n",
       "      <td>0</td>\n",
       "      <td>0</td>\n",
       "      <td>0</td>\n",
       "      <td>1</td>\n",
       "      <td>No</td>\n",
       "      <td>Monday</td>\n",
       "      <td>Friday</td>\n",
       "      <td>4</td>\n",
       "    </tr>\n",
       "    <tr>\n",
       "      <th>38838</th>\n",
       "      <td>F</td>\n",
       "      <td>2016-05-06</td>\n",
       "      <td>2016-05-06</td>\n",
       "      <td>61</td>\n",
       "      <td>VILA RUBIM</td>\n",
       "      <td>0</td>\n",
       "      <td>0</td>\n",
       "      <td>0</td>\n",
       "      <td>0</td>\n",
       "      <td>0</td>\n",
       "      <td>0</td>\n",
       "      <td>No</td>\n",
       "      <td>Friday</td>\n",
       "      <td>Friday</td>\n",
       "      <td>0</td>\n",
       "    </tr>\n",
       "    <tr>\n",
       "      <th>75904</th>\n",
       "      <td>F</td>\n",
       "      <td>2016-05-06</td>\n",
       "      <td>2016-05-11</td>\n",
       "      <td>66</td>\n",
       "      <td>SÃO PEDRO</td>\n",
       "      <td>0</td>\n",
       "      <td>1</td>\n",
       "      <td>0</td>\n",
       "      <td>0</td>\n",
       "      <td>0</td>\n",
       "      <td>1</td>\n",
       "      <td>No</td>\n",
       "      <td>Friday</td>\n",
       "      <td>Wednesday</td>\n",
       "      <td>5</td>\n",
       "    </tr>\n",
       "    <tr>\n",
       "      <th>35425</th>\n",
       "      <td>M</td>\n",
       "      <td>2016-05-03</td>\n",
       "      <td>2016-05-05</td>\n",
       "      <td>51</td>\n",
       "      <td>BONFIM</td>\n",
       "      <td>0</td>\n",
       "      <td>0</td>\n",
       "      <td>0</td>\n",
       "      <td>1</td>\n",
       "      <td>0</td>\n",
       "      <td>0</td>\n",
       "      <td>No</td>\n",
       "      <td>Tuesday</td>\n",
       "      <td>Thursday</td>\n",
       "      <td>2</td>\n",
       "    </tr>\n",
       "    <tr>\n",
       "      <th>25770</th>\n",
       "      <td>M</td>\n",
       "      <td>2016-05-16</td>\n",
       "      <td>2016-05-30</td>\n",
       "      <td>5</td>\n",
       "      <td>SÃO PEDRO</td>\n",
       "      <td>1</td>\n",
       "      <td>0</td>\n",
       "      <td>0</td>\n",
       "      <td>0</td>\n",
       "      <td>0</td>\n",
       "      <td>1</td>\n",
       "      <td>No</td>\n",
       "      <td>Monday</td>\n",
       "      <td>Monday</td>\n",
       "      <td>14</td>\n",
       "    </tr>\n",
       "  </tbody>\n",
       "</table>\n",
       "</div>"
      ],
      "text/plain": [
       "      Gender ScheduledDay AppointmentDay  Age      Neighbourhood Scholarship  \\\n",
       "35266      F   2016-05-02     2016-05-02   18  JESUS DE NAZARETH           0   \n",
       "8015       M   2016-05-12     2016-05-12   12  JESUS DE NAZARETH           0   \n",
       "47753      F   2016-04-19     2016-05-11   18            MARUÍPE           0   \n",
       "29515      F   2016-05-02     2016-05-06   29              ROMÃO           0   \n",
       "38838      F   2016-05-06     2016-05-06   61         VILA RUBIM           0   \n",
       "75904      F   2016-05-06     2016-05-11   66          SÃO PEDRO           0   \n",
       "35425      M   2016-05-03     2016-05-05   51             BONFIM           0   \n",
       "25770      M   2016-05-16     2016-05-30    5          SÃO PEDRO           1   \n",
       "\n",
       "      Hypertension Diabetes Alcoholism Handicap SMSReceived NoShow  \\\n",
       "35266            0        0          0        0           0     No   \n",
       "8015             0        0          0        0           0     No   \n",
       "47753            0        0          0        0           1     No   \n",
       "29515            0        0          0        0           1     No   \n",
       "38838            0        0          0        0           0     No   \n",
       "75904            1        0          0        0           1     No   \n",
       "35425            0        0          1        0           0     No   \n",
       "25770            0        0          0        0           1     No   \n",
       "\n",
       "      ScheduledDay_DOW AppointmentDay_DOW  Waiting_Time_days  \n",
       "35266           Monday             Monday                  0  \n",
       "8015          Thursday           Thursday                  0  \n",
       "47753          Tuesday          Wednesday                 22  \n",
       "29515           Monday             Friday                  4  \n",
       "38838           Friday             Friday                  0  \n",
       "75904           Friday          Wednesday                  5  \n",
       "35425          Tuesday           Thursday                  2  \n",
       "25770           Monday             Monday                 14  "
      ]
     },
     "execution_count": 35,
     "metadata": {},
     "output_type": "execute_result"
    }
   ],
   "source": [
    "df.sample(8)"
   ]
  },
  {
   "cell_type": "code",
   "execution_count": 36,
   "metadata": {},
   "outputs": [
    {
     "name": "stdout",
     "output_type": "stream",
     "text": [
      "LabelEncoder Completed\n"
     ]
    }
   ],
   "source": [
    "le = LabelEncoder()\n",
    "df['Gender'] = le.fit_transform(df['Gender'])\n",
    "#Neighbourhood\n",
    "le = LabelEncoder()\n",
    "df['Neighbourhood'] = le.fit_transform(df['Neighbourhood'])\n",
    "#ScheduledDay_DOW\n",
    "le = LabelEncoder()\n",
    "df['ScheduledDay_DOW'] = le.fit_transform(df['ScheduledDay_DOW'])\n",
    "#AppointmentDay_DOW\n",
    "le = LabelEncoder()\n",
    "df['AppointmentDay_DOW'] = le.fit_transform(df['AppointmentDay_DOW'])\n",
    "print(\"LabelEncoder Completed\")\n",
    "\n",
    "#NoShow\n",
    "le = LabelEncoder()\n",
    "df['NoShow'] = le.fit_transform(df['NoShow'])\n",
    "\n",
    "\n",
    "\n",
    "\n",
    "df['ScheduledDay_Y'] = df['ScheduledDay'].dt.year\n",
    "df['ScheduledDay_M'] = df['ScheduledDay'].dt.month\n",
    "df['ScheduledDay_D'] = df['ScheduledDay'].dt.day\n",
    "df.drop(['ScheduledDay'], axis=1, inplace=True)\n",
    "\n",
    "df['AppointmentDay_Y'] = df['AppointmentDay'].dt.year\n",
    "df['AppointmentDay_M'] = df['AppointmentDay'].dt.month\n",
    "df['AppointmentDay_D'] = df['AppointmentDay'].dt.day\n",
    "df.drop(['AppointmentDay'], axis=1, inplace=True)\n",
    "\n",
    "x = df.drop(['NoShow'], axis=1)\n",
    "y = df['NoShow']"
   ]
  },
  {
   "cell_type": "code",
   "execution_count": 37,
   "metadata": {},
   "outputs": [],
   "source": [
    "x_train, x_test, y_train, y_test = train_test_split(x, y, test_size=0.33, random_state=0)"
   ]
  },
  {
   "cell_type": "code",
   "execution_count": 38,
   "metadata": {},
   "outputs": [
    {
     "name": "stderr",
     "output_type": "stream",
     "text": [
      "C:\\Users\\P U N I\\Anaconda3\\lib\\site-packages\\sklearn\\ensemble\\forest.py:246: FutureWarning: The default value of n_estimators will change from 10 in version 0.20 to 100 in 0.22.\n",
      "  \"10 in version 0.20 to 100 in 0.22.\", FutureWarning)\n"
     ]
    },
    {
     "data": {
      "text/plain": [
       "RandomForestClassifier(bootstrap=True, class_weight=None, criterion='gini',\n",
       "            max_depth=None, max_features='auto', max_leaf_nodes=None,\n",
       "            min_impurity_decrease=0.0, min_impurity_split=None,\n",
       "            min_samples_leaf=1, min_samples_split=2,\n",
       "            min_weight_fraction_leaf=0.0, n_estimators=10, n_jobs=None,\n",
       "            oob_score=False, random_state=0, verbose=0, warm_start=False)"
      ]
     },
     "execution_count": 38,
     "metadata": {},
     "output_type": "execute_result"
    }
   ],
   "source": [
    "rf_clf = RandomForestClassifier(random_state=0)\n",
    "rf_clf.fit(x_train, y_train)"
   ]
  },
  {
   "cell_type": "code",
   "execution_count": 39,
   "metadata": {},
   "outputs": [
    {
     "data": {
      "text/plain": [
       "0.778664253989143"
      ]
     },
     "execution_count": 39,
     "metadata": {},
     "output_type": "execute_result"
    }
   ],
   "source": [
    "rf_clf.score(x_test, y_test)"
   ]
  },
  {
   "cell_type": "code",
   "execution_count": 40,
   "metadata": {},
   "outputs": [
    {
     "data": {
      "text/plain": [
       "0.9734105763517529"
      ]
     },
     "execution_count": 40,
     "metadata": {},
     "output_type": "execute_result"
    }
   ],
   "source": [
    "rf_clf.score(x_train,y_train)"
   ]
  },
  {
   "cell_type": "code",
   "execution_count": 41,
   "metadata": {},
   "outputs": [
    {
     "data": {
      "text/html": [
       "<div>\n",
       "<style scoped>\n",
       "    .dataframe tbody tr th:only-of-type {\n",
       "        vertical-align: middle;\n",
       "    }\n",
       "\n",
       "    .dataframe tbody tr th {\n",
       "        vertical-align: top;\n",
       "    }\n",
       "\n",
       "    .dataframe thead th {\n",
       "        text-align: right;\n",
       "    }\n",
       "</style>\n",
       "<table border=\"1\" class=\"dataframe\">\n",
       "  <thead>\n",
       "    <tr style=\"text-align: right;\">\n",
       "      <th></th>\n",
       "      <th>Gender</th>\n",
       "      <th>Age</th>\n",
       "      <th>Neighbourhood</th>\n",
       "      <th>Scholarship</th>\n",
       "      <th>Hypertension</th>\n",
       "      <th>Diabetes</th>\n",
       "      <th>Alcoholism</th>\n",
       "      <th>Handicap</th>\n",
       "      <th>SMSReceived</th>\n",
       "      <th>ScheduledDay_DOW</th>\n",
       "      <th>AppointmentDay_DOW</th>\n",
       "      <th>Waiting_Time_days</th>\n",
       "      <th>ScheduledDay_Y</th>\n",
       "      <th>ScheduledDay_M</th>\n",
       "      <th>ScheduledDay_D</th>\n",
       "      <th>AppointmentDay_Y</th>\n",
       "      <th>AppointmentDay_M</th>\n",
       "      <th>AppointmentDay_D</th>\n",
       "    </tr>\n",
       "  </thead>\n",
       "  <tbody>\n",
       "    <tr>\n",
       "      <th>54225</th>\n",
       "      <td>0</td>\n",
       "      <td>56</td>\n",
       "      <td>33</td>\n",
       "      <td>0</td>\n",
       "      <td>0</td>\n",
       "      <td>0</td>\n",
       "      <td>0</td>\n",
       "      <td>0</td>\n",
       "      <td>0</td>\n",
       "      <td>1</td>\n",
       "      <td>1</td>\n",
       "      <td>0</td>\n",
       "      <td>2016</td>\n",
       "      <td>5</td>\n",
       "      <td>16</td>\n",
       "      <td>2016</td>\n",
       "      <td>5</td>\n",
       "      <td>16</td>\n",
       "    </tr>\n",
       "  </tbody>\n",
       "</table>\n",
       "</div>"
      ],
      "text/plain": [
       "       Gender  Age  Neighbourhood Scholarship Hypertension Diabetes  \\\n",
       "54225       0   56             33           0            0        0   \n",
       "\n",
       "      Alcoholism Handicap SMSReceived  ScheduledDay_DOW  AppointmentDay_DOW  \\\n",
       "54225          0        0           0                 1                   1   \n",
       "\n",
       "       Waiting_Time_days  ScheduledDay_Y  ScheduledDay_M  ScheduledDay_D  \\\n",
       "54225                  0            2016               5              16   \n",
       "\n",
       "       AppointmentDay_Y  AppointmentDay_M  AppointmentDay_D  \n",
       "54225              2016                 5                16  "
      ]
     },
     "execution_count": 41,
     "metadata": {},
     "output_type": "execute_result"
    }
   ],
   "source": [
    "df1=x.sample()\n",
    "df1"
   ]
  },
  {
   "cell_type": "code",
   "execution_count": 42,
   "metadata": {},
   "outputs": [],
   "source": [
    "predictions=rf_clf.predict(x_test)"
   ]
  },
  {
   "cell_type": "code",
   "execution_count": 43,
   "metadata": {},
   "outputs": [],
   "source": [
    "errors=abs(predictions-y_test)"
   ]
  },
  {
   "cell_type": "code",
   "execution_count": 44,
   "metadata": {},
   "outputs": [
    {
     "name": "stdout",
     "output_type": "stream",
     "text": [
      "Mean Absolute Error: 0.22 degrees.\n"
     ]
    }
   ],
   "source": [
    "print(\"Mean Absolute Error:\",round(np.mean(errors),2),'degrees.')"
   ]
  },
  {
   "cell_type": "code",
   "execution_count": 46,
   "metadata": {},
   "outputs": [],
   "source": [
    "from sklearn.metrics import accuracy_score\n",
    "from sklearn.metrics import recall_score\n",
    "from sklearn.metrics import precision_score\n",
    "from sklearn.metrics import f1_score\n",
    "from sklearn.metrics import confusion_matrix\n",
    "pred=rf_clf.predict(x)"
   ]
  },
  {
   "cell_type": "code",
   "execution_count": 47,
   "metadata": {},
   "outputs": [],
   "source": [
    "conf_matrix=confusion_matrix(y,pred)"
   ]
  },
  {
   "cell_type": "code",
   "execution_count": 48,
   "metadata": {},
   "outputs": [
    {
     "name": "stdout",
     "output_type": "stream",
     "text": [
      "[[85757  2450]\n",
      " [ 7592 14727]]\n"
     ]
    }
   ],
   "source": [
    "print(conf_matrix)"
   ]
  },
  {
   "cell_type": "code",
   "execution_count": 49,
   "metadata": {},
   "outputs": [],
   "source": [
    "acc_score=accuracy_score(y,pred)\n",
    "rec_score=recall_score(y,pred)\n",
    "prec_score=precision_score(y,pred)\n",
    "f1s_core=f1_score(y,pred)"
   ]
  },
  {
   "cell_type": "code",
   "execution_count": 50,
   "metadata": {},
   "outputs": [
    {
     "name": "stdout",
     "output_type": "stream",
     "text": [
      "Accuracy Score=0.9091435499339522\n",
      "Recall score=0.6598413907433128\n",
      "Precision Score=0.8573674099085987\n",
      "f1 Score=0.7457464046992099\n"
     ]
    }
   ],
   "source": [
    "print(\"Accuracy Score={0}\".format(acc_score))\n",
    "print(\"Recall score={0}\".format(rec_score))\n",
    "print(\"Precision Score={0}\".format(prec_score))\n",
    "print(\"f1 Score={0}\".format(f1s_core))"
   ]
  },
  {
   "cell_type": "code",
   "execution_count": null,
   "metadata": {},
   "outputs": [],
   "source": []
  }
 ],
 "metadata": {
  "kernelspec": {
   "display_name": "Python 3",
   "language": "python",
   "name": "python3"
  },
  "language_info": {
   "codemirror_mode": {
    "name": "ipython",
    "version": 3
   },
   "file_extension": ".py",
   "mimetype": "text/x-python",
   "name": "python",
   "nbconvert_exporter": "python",
   "pygments_lexer": "ipython3",
   "version": "3.7.3"
  }
 },
 "nbformat": 4,
 "nbformat_minor": 2
}
